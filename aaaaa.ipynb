{
 "cells": [
  {
   "cell_type": "code",
   "execution_count": 1,
   "id": "35d0a768",
   "metadata": {},
   "outputs": [
    {
     "data": {
      "text/plain": [
       "6"
      ]
     },
     "execution_count": 1,
     "metadata": {},
     "output_type": "execute_result"
    }
   ],
   "source": [
    "def addNumber(x, y):\n",
    "    return x+y\n",
    "addNumber(2,4)"
   ]
  },
  {
   "cell_type": "code",
   "execution_count": 2,
   "id": "ab7135aa",
   "metadata": {},
   "outputs": [
    {
     "data": {
      "text/plain": [
       "-2"
      ]
     },
     "execution_count": 2,
     "metadata": {},
     "output_type": "execute_result"
    }
   ],
   "source": [
    "def subtractNumber(x, y):\n",
    "    return x-y\n",
    "subtractNumber(6,8)"
   ]
  },
  {
   "cell_type": "code",
   "execution_count": 3,
   "id": "c841e4e2",
   "metadata": {},
   "outputs": [
    {
     "data": {
      "text/plain": [
       "11"
      ]
     },
     "execution_count": 3,
     "metadata": {},
     "output_type": "execute_result"
    }
   ],
   "source": [
    "def getBiggerNumber(x, y):\n",
    "    return x if x>y else y\n",
    "getBiggerNumber(11,9)"
   ]
  },
  {
   "cell_type": "code",
   "execution_count": 4,
   "id": "b63cc48d",
   "metadata": {},
   "outputs": [
    {
     "name": "stdout",
     "output_type": "stream",
     "text": [
      "5.0\n",
      "243.0\n",
      "28.274333882308138\n"
     ]
    }
   ],
   "source": [
    "# Calculate the square root of 16 and stores it in the variable a\n",
    "# Calculate 3 to the power of 5 and stores it in the variable b\n",
    "# Calculate area of circle with radius = 3.0 by making use of the math.pi constant and store it in the variable c\n",
    "import math\n",
    "c=0.0\n",
    "def sq(n):\n",
    "    a=math.sqrt(n)\n",
    "    return a\n",
    "print(sq(25))\n",
    "\n",
    "b=math.pow(3,5)\n",
    "print(b)\n",
    "\n",
    "\n",
    "c=3.0*3.0*math.pi\n",
    "print(c)"
   ]
  },
  {
   "cell_type": "code",
   "execution_count": 5,
   "id": "45c27544",
   "metadata": {},
   "outputs": [
    {
     "data": {
      "text/plain": [
       "82.4"
      ]
     },
     "execution_count": 5,
     "metadata": {},
     "output_type": "execute_result"
    }
   ],
   "source": [
    "# Write a function to convert temperature from Celsius to Fahrenheit scale.\n",
    "# oC to oF Conversion: Multipy by 9, then divide by 5, then add 32.\n",
    "import string\n",
    "# Note: Return a string of 2 decimal places.\n",
    "# In - Cel2Fah(28.0)\n",
    "# Out - '82.40'\n",
    "# In - Cel2Fah(0.00)\n",
    "# Out - '32.00'\n",
    "c=''\n",
    "def celtofah(t):\n",
    "    c=round((t*9)/5,2)+32\n",
    "    return c\n",
    "celtofah(28.0)     "
   ]
  },
  {
   "cell_type": "code",
   "execution_count": 6,
   "id": "34ce617d",
   "metadata": {},
   "outputs": [
    {
     "data": {
      "text/plain": [
       "'27.5'"
      ]
     },
     "execution_count": 6,
     "metadata": {},
     "output_type": "execute_result"
    }
   ],
   "source": [
    "#function to compute the BMI of a person.\n",
    "#     BMI = weight(kg)  /  ( height(m)*height(m) \n",
    "import string\n",
    "c=''\n",
    "def BMI(n,m):\n",
    "    c=round((n/(m*m)),1)\n",
    "    return str(c)\n",
    "\n",
    "BMI(110,2)"
   ]
  },
  {
   "cell_type": "code",
   "execution_count": 7,
   "id": "6cafa4ca",
   "metadata": {},
   "outputs": [
    {
     "data": {
      "text/plain": [
       "51"
      ]
     },
     "execution_count": 7,
     "metadata": {},
     "output_type": "execute_result"
    }
   ],
   "source": [
    "#function percent(value, total),returns percentage value as an integer.\n",
    "# In - percent(46, 90)\n",
    "# Out - 51\n",
    "# In - percent(51, 51)\n",
    "# Out - 100\n",
    "# In - percent(63, 12)\n",
    "# Out - 525\n",
    "def percent(a,b):\n",
    "    return round(a/b*100)\n",
    "    \n",
    "percent(46,90)"
   ]
  },
  {
   "cell_type": "code",
   "execution_count": 8,
   "id": "0b8f44af",
   "metadata": {},
   "outputs": [
    {
     "data": {
      "text/plain": [
       "5"
      ]
     },
     "execution_count": 8,
     "metadata": {},
     "output_type": "execute_result"
    }
   ],
   "source": [
    "# function to compute the hypotenuse given sides a and b of the triangle.\n",
    "# Hint: You can use math.sqrt(x) to compute the square root of x.\n",
    "# In - hypotenuse(3, 4)\n",
    "# Out - 5\n",
    "# In - hypotenuse(5, 12)\n",
    "# Out - 13\n",
    "import math\n",
    "x=0\n",
    "def hyp(a,b):\n",
    "    x=(a*a)+(b*b)\n",
    "    return round(math.sqrt(x))\n",
    "hyp(3,4)"
   ]
  },
  {
   "cell_type": "code",
   "execution_count": 9,
   "id": "fe505d8f",
   "metadata": {},
   "outputs": [
    {
     "data": {
      "text/plain": [
       "9"
      ]
     },
     "execution_count": 9,
     "metadata": {},
     "output_type": "execute_result"
    }
   ],
   "source": [
    "#function getSumOfLastDigits() that takes in a list of positive numbers and returns the sum of all the last digits\n",
    "n=0\n",
    "def getSumOfLastDigits(listl):\n",
    "    s=0\n",
    "    for n in listl:\n",
    "        if n>=0:s+= n%10\n",
    "    return s\n",
    "\n",
    "getSumOfLastDigits([2,3,4]) "
   ]
  },
  {
   "cell_type": "code",
   "execution_count": 10,
   "id": "5b8e2814",
   "metadata": {},
   "outputs": [
    {
     "data": {
      "text/plain": [
       "('My name is', 'Ahmad', 'I am', 'My age is secret', 'years old')"
      ]
     },
     "execution_count": 10,
     "metadata": {},
     "output_type": "execute_result"
    }
   ],
   "source": [
    "# Write a function that uses a default value.\n",
    "# In - introduce('Lim', 20)\n",
    "# Out - 'My name is Lim. I am 20 years old.'\n",
    "# In - introduce('Ahmad')\n",
    "# Out - 'My name is Ahmad. My age is secret.'\n",
    "\n",
    "def introduce(na,age='My age is secret'):\n",
    "    return('My name is',na,'I am',age,'years old')\n",
    "introduce('Ahmad')\n"
   ]
  },
  {
   "cell_type": "code",
   "execution_count": 11,
   "id": "3607d306",
   "metadata": {},
   "outputs": [
    {
     "data": {
      "text/plain": [
       "True"
      ]
     },
     "execution_count": 11,
     "metadata": {},
     "output_type": "execute_result"
    }
   ],
   "source": [
    "# Write a function isEquilateral(x, y, z) that accepts the 3 sides of a triangle as arguments. \n",
    "# The program should return True if it is an equilateral triangle.\n",
    "\n",
    "# In - isEquilateral(2, 4, 3)\n",
    "# False - False\n",
    "# In - isEquilateral(3, 3, 3)\n",
    "# Out - True\n",
    "# In - isEquilateral(-3, -3, -3)\n",
    "# Out - False\n",
    "\n",
    "def isEquilateral(x,y,z):\n",
    "    if x==y==z:\n",
    "        return True\n",
    "    else:return False\n",
    "isEquilateral(3,3,3)"
   ]
  },
  {
   "cell_type": "code",
   "execution_count": 12,
   "id": "5fa144e7",
   "metadata": {},
   "outputs": [
    {
     "data": {
      "text/plain": [
       "0"
      ]
     },
     "execution_count": 12,
     "metadata": {},
     "output_type": "execute_result"
    }
   ],
   "source": [
    "# For a quadratic equation=ax2+bx+c,discriminant, D=b2-4ac. Write a function to compute the discriminant, D.\n",
    "# In - quadratic(1, 2, 3)\n",
    "# Out - 'The discriminant is -8.'\n",
    "# In - quadratic(1, 3, 2)\n",
    "# Out - 'The discriminant is 1.'\n",
    "# In - quadratic(1, 4, 4)\n",
    "# Out - 'The discriminant is 0.'\n",
    "def quad(a,b,c):\n",
    "    return ((b*b)-4*a*c)\n",
    "quad(1,4,4)   "
   ]
  },
  {
   "cell_type": "code",
   "execution_count": 13,
   "id": "2118d6ab",
   "metadata": {},
   "outputs": [
    {
     "data": {
      "text/plain": [
       "5"
      ]
     },
     "execution_count": 13,
     "metadata": {},
     "output_type": "execute_result"
    }
   ],
   "source": [
    "# Define a function calls addFirstAndLast(x) that takes in a list of numbers and returns the sum of the first and last numbers.\n",
    "# In - addFirstAndLast([])\n",
    "# Out - 0\n",
    "# In - addFirstAndLast([2, 7, 3])\n",
    "# Out - 5\n",
    "# In - addFirstAndLast([10])\n",
    "# Out - 10\n",
    "\n",
    "def addFirstAndLast(lst):\n",
    "    if len(lst) == 1:\n",
    "        return lst[0]\n",
    "    elif lst:\n",
    "        return lst[0] + lst[-1]\n",
    "    else:\n",
    "        return 'List is empty'\n",
    "\n",
    "addFirstAndLast([2,7,3])"
   ]
  },
  {
   "cell_type": "code",
   "execution_count": 14,
   "id": "b50c036b",
   "metadata": {},
   "outputs": [
    {
     "data": {
      "text/plain": [
       "True"
      ]
     },
     "execution_count": 14,
     "metadata": {},
     "output_type": "execute_result"
    }
   ],
   "source": [
    "# Complete the 'lambda' expression so that it returns True if the argument is an even number, and False otherwise.\n",
    "\n",
    "c=lambda num : True if num%2 == 0 else False\n",
    "c(4)"
   ]
  },
  {
   "cell_type": "code",
   "execution_count": 15,
   "id": "f4b80bb3",
   "metadata": {},
   "outputs": [
    {
     "data": {
      "text/plain": [
       "\"'A function that computes and returns the final score.\""
      ]
     },
     "execution_count": 15,
     "metadata": {},
     "output_type": "execute_result"
    }
   ],
   "source": [
    "# getScore.__doc__\n",
    "# 'A function that computes and returns the final score.'\n",
    "\n",
    "def getScore():\n",
    "  ''''A function that computes and returns the final score.'''\n",
    "  pass\n",
    "getScore.__doc__"
   ]
  },
  {
   "cell_type": "code",
   "execution_count": 16,
   "id": "6cabc07c",
   "metadata": {},
   "outputs": [
    {
     "name": "stdout",
     "output_type": "stream",
     "text": [
      "25\n"
     ]
    }
   ],
   "source": [
    "# In Python, it is possible to pass a function as a argument to another function. \n",
    "# Write a function useFunction(func, num) that takes in a function and a number as arguments. \n",
    "# The useFunction should produce the output shown in the examples given below\n",
    "\n",
    "def addOne(x):\n",
    "  return x + 1\n",
    "\n",
    "def useFunction(addOne, n):\n",
    "  print(addOne(n)**2)\n",
    "useFunction(addOne, 4)"
   ]
  },
  {
   "cell_type": "code",
   "execution_count": 17,
   "id": "0fe4a066",
   "metadata": {},
   "outputs": [
    {
     "name": "stdout",
     "output_type": "stream",
     "text": [
      "This is f1 function\n"
     ]
    }
   ],
   "source": [
    "def f1():\n",
    "    print('This is f1 function')\n",
    "\n",
    "f1()"
   ]
  },
  {
   "cell_type": "code",
   "execution_count": null,
   "id": "674e4d6a",
   "metadata": {},
   "outputs": [],
   "source": []
  }
 ],
 "metadata": {
  "kernelspec": {
   "display_name": "Python 3",
   "language": "python",
   "name": "python3"
  },
  "language_info": {
   "codemirror_mode": {
    "name": "ipython",
    "version": 3
   },
   "file_extension": ".py",
   "mimetype": "text/x-python",
   "name": "python",
   "nbconvert_exporter": "python",
   "pygments_lexer": "ipython3",
   "version": "3.8.8"
  }
 },
 "nbformat": 4,
 "nbformat_minor": 5
}
