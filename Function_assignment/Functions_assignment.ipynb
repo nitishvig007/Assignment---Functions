{
 "cells": [
  {
   "cell_type": "code",
   "execution_count": 1,
   "id": "bf9dade1",
   "metadata": {},
   "outputs": [
    {
     "data": {
      "text/plain": [
       "7"
      ]
     },
     "execution_count": 1,
     "metadata": {},
     "output_type": "execute_result"
    }
   ],
   "source": [
    "# Define a function calls addNumber(x, y) that takes in two number and returns the sum of the two numbers.\n",
    "\n",
    "def addNumber(x, y):\n",
    "    return x+y\n",
    "\n",
    "addNumber(3,4)"
   ]
  },
  {
   "cell_type": "code",
   "execution_count": 2,
   "id": "b1b3a77e",
   "metadata": {},
   "outputs": [
    {
     "data": {
      "text/plain": [
       "-10"
      ]
     },
     "execution_count": 2,
     "metadata": {},
     "output_type": "execute_result"
    }
   ],
   "source": [
    "# Define a function calls subtractNumber(x, y) that takes in two numbers and returns the difference of the two numbers.\n",
    "\n",
    "def subtractNumber(x, y):\n",
    "    return x-y\n",
    "\n",
    "subtractNumber(10, 20)"
   ]
  },
  {
   "cell_type": "code",
   "execution_count": 3,
   "id": "75b1f3f1",
   "metadata": {},
   "outputs": [
    {
     "data": {
      "text/plain": [
       "12"
      ]
     },
     "execution_count": 3,
     "metadata": {},
     "output_type": "execute_result"
    }
   ],
   "source": [
    "# Write a function getBiggerNumber(x, y) that takes in two numbers as arguments and returns the bigger number.\n",
    "\n",
    "def getBiggerNumber(x, y):\n",
    "    if x > y:\n",
    "        return x\n",
    "    else:\n",
    "        return y\n",
    "    \n",
    "getBiggerNumber(10, 12)"
   ]
  },
  {
   "cell_type": "code",
   "execution_count": 7,
   "id": "70183de4",
   "metadata": {},
   "outputs": [
    {
     "name": "stdout",
     "output_type": "stream",
     "text": [
      "4.0\n",
      "243.0\n",
      "28.274333882308138\n"
     ]
    }
   ],
   "source": [
    "# Python provides many built-in modules with many useful functions. \n",
    "# One such module is the math module. The math module provides many useful functions such as sqrt(x), pow(x, y), ceil(x), floor(x) etc. \n",
    "# You will need to do a \"import math\" before you are allowed to use the functions within the math module.\n",
    "\n",
    "\n",
    "# Calculate the square root of 16 and stores it in the variable a\n",
    "\n",
    "\n",
    "# Calculate 3 to the power of 5 and stores it in the variable b\n",
    "\n",
    "\n",
    "# Calculate area of circle with radius = 3.0 by making use of the math.pi constant and store it in the variable c\n",
    "\n",
    "\n",
    "import math\n",
    "\n",
    "a = math.sqrt(16)\n",
    "print(a)\n",
    "\n",
    "b = math.pow(3,5)\n",
    "print(b)\n",
    "\n",
    "r = 3\n",
    "c = math.pi * r * r\n",
    "print(c)"
   ]
  },
  {
   "cell_type": "code",
   "execution_count": 12,
   "id": "e296d380",
   "metadata": {},
   "outputs": [
    {
     "name": "stdout",
     "output_type": "stream",
     "text": [
      "82.4\n",
      "32.0\n"
     ]
    }
   ],
   "source": [
    "# Write a function to convert temperature from Celsius to Fahrenheit scale.\n",
    "# oC to oF Conversion: Multipy by 9, then divide by 5, then add 32.\n",
    "\n",
    "# Note: Return a string of 2 decimal places.\n",
    "# In - Cel2Fah(28.0)\n",
    "# Out - '82.40'\n",
    "# In - Cel2Fah(0.00)\n",
    "# Out - '32.00'\n",
    "\n",
    "def Cel2Fah(x):\n",
    "    return round((((x * 9)/5) + 32),2)\n",
    "\n",
    "print(Cel2Fah(28))\n",
    "print(Cel2Fah(0.00))"
   ]
  },
  {
   "cell_type": "code",
   "execution_count": 14,
   "id": "d0f8762c",
   "metadata": {},
   "outputs": [
    {
     "name": "stdout",
     "output_type": "stream",
     "text": [
      "21.8\n",
      "27.5\n"
     ]
    }
   ],
   "source": [
    "# Write a function to compute the BMI of a person.\n",
    "#     BMI = weight(kg)  /  ( height(m)*height(m) )\n",
    "\n",
    "# Note: Return a string of 1 decimal place.\n",
    "# In - BMI(63, 1.7)\n",
    "# Out - '21.8'\n",
    "# In - BMI(110, 2)\n",
    "# Out - '27.5'\n",
    "\n",
    "\n",
    "def bmi(w,h):\n",
    "    return str(round((w/(h * h)),1))\n",
    "\n",
    "print(bmi(63, 1.7))\n",
    "print(bmi(110, 2))"
   ]
  },
  {
   "cell_type": "code",
   "execution_count": 18,
   "id": "630abf42",
   "metadata": {},
   "outputs": [
    {
     "name": "stdout",
     "output_type": "stream",
     "text": [
      "51.11\n"
     ]
    }
   ],
   "source": [
    "# Write a function percent(value, total) that takes in two numbers as arguments, and returns the percentage value as an integer.\n",
    "# In - percent(46, 90)\n",
    "# Out - 51\n",
    "# In - percent(51, 51)\n",
    "# Out - 100\n",
    "# In - percent(63, 12)\n",
    "# Out - 525\n",
    "\n",
    "def percent(v, t):\n",
    "    return round(((v/t) * 100),2)\n",
    "\n",
    "print(percent(46, 90))"
   ]
  },
  {
   "cell_type": "code",
   "execution_count": 22,
   "id": "2035f1a1",
   "metadata": {},
   "outputs": [
    {
     "name": "stdout",
     "output_type": "stream",
     "text": [
      "25\n",
      "5.0\n"
     ]
    }
   ],
   "source": [
    "# Write a function to compute the hypotenuse given sides a and b of the triangle.\n",
    "# Hint: You can use math.sqrt(x) to compute the square root of x.\n",
    "# In - hypotenuse(3, 4)\n",
    "# Out - 5\n",
    "# In - hypotenuse(5, 12)\n",
    "# Out - 13\n",
    "\n",
    "def hypo(a,b):\n",
    "    x = (a * a) + (b * b)\n",
    "    print(x)\n",
    "    return(round(math.sqrt(x),2))\n",
    "\n",
    "print(hypo(3,4))"
   ]
  },
  {
   "cell_type": "code",
   "execution_count": 46,
   "id": "b000d27f",
   "metadata": {},
   "outputs": [
    {
     "ename": "TypeError",
     "evalue": "'int' object is not subscriptable",
     "output_type": "error",
     "traceback": [
      "\u001b[1;31m---------------------------------------------------------------------------\u001b[0m",
      "\u001b[1;31mTypeError\u001b[0m                                 Traceback (most recent call last)",
      "\u001b[1;32m<ipython-input-46-b9e9cb9896d5>\u001b[0m in \u001b[0;36m<module>\u001b[1;34m\u001b[0m\n\u001b[0;32m     11\u001b[0m     \u001b[1;32mreturn\u001b[0m \u001b[0mx\u001b[0m\u001b[1;33m\u001b[0m\u001b[1;33m\u001b[0m\u001b[0m\n\u001b[0;32m     12\u001b[0m \u001b[1;33m\u001b[0m\u001b[0m\n\u001b[1;32m---> 13\u001b[1;33m \u001b[0mprint\u001b[0m\u001b[1;33m(\u001b[0m\u001b[0mgetSumOfLastDigits\u001b[0m\u001b[1;33m(\u001b[0m\u001b[1;33m[\u001b[0m\u001b[1;36m2\u001b[0m\u001b[1;33m,\u001b[0m \u001b[1;36m3\u001b[0m\u001b[1;33m,\u001b[0m \u001b[1;36m4\u001b[0m\u001b[1;33m]\u001b[0m\u001b[1;33m)\u001b[0m\u001b[1;33m)\u001b[0m\u001b[1;33m\u001b[0m\u001b[1;33m\u001b[0m\u001b[0m\n\u001b[0m",
      "\u001b[1;32m<ipython-input-46-b9e9cb9896d5>\u001b[0m in \u001b[0;36mgetSumOfLastDigits\u001b[1;34m(lst)\u001b[0m\n\u001b[0;32m      8\u001b[0m     \u001b[0mx\u001b[0m \u001b[1;33m=\u001b[0m \u001b[1;36m0\u001b[0m\u001b[1;33m\u001b[0m\u001b[1;33m\u001b[0m\u001b[0m\n\u001b[0;32m      9\u001b[0m     \u001b[1;32mfor\u001b[0m \u001b[0mi\u001b[0m \u001b[1;32min\u001b[0m \u001b[0mlst\u001b[0m\u001b[1;33m:\u001b[0m\u001b[1;33m\u001b[0m\u001b[1;33m\u001b[0m\u001b[0m\n\u001b[1;32m---> 10\u001b[1;33m         \u001b[0mx\u001b[0m \u001b[1;33m=\u001b[0m \u001b[0mx\u001b[0m \u001b[1;33m+\u001b[0m \u001b[0mi\u001b[0m\u001b[1;33m[\u001b[0m\u001b[1;33m-\u001b[0m\u001b[1;36m1\u001b[0m\u001b[1;33m]\u001b[0m\u001b[1;33m\u001b[0m\u001b[1;33m\u001b[0m\u001b[0m\n\u001b[0m\u001b[0;32m     11\u001b[0m     \u001b[1;32mreturn\u001b[0m \u001b[0mx\u001b[0m\u001b[1;33m\u001b[0m\u001b[1;33m\u001b[0m\u001b[0m\n\u001b[0;32m     12\u001b[0m \u001b[1;33m\u001b[0m\u001b[0m\n",
      "\u001b[1;31mTypeError\u001b[0m: 'int' object is not subscriptable"
     ]
    }
   ],
   "source": [
    "# Write a function getSumOfLastDigits() that takes in a list of positive numbers and returns the sum of all the last digits in the list.\n",
    "# getSumOfLastDigits([2, 3, 4])\n",
    "# 9\n",
    "# getSumOfLastDigits([1, 23, 456])\n",
    "# 10\n",
    "\n",
    "def getSumOfLastDigits(lst):\n",
    "    x = 0\n",
    "    for i in lst:\n",
    "        x = x + i[-1]\n",
    "    return x\n",
    "\n",
    "print(getSumOfLastDigits([2, 3, 4]))\n",
    "##########################################################################"
   ]
  },
  {
   "cell_type": "code",
   "execution_count": 26,
   "id": "eaefc54a",
   "metadata": {},
   "outputs": [
    {
     "name": "stdout",
     "output_type": "stream",
     "text": [
      "My name is Lim I am 20 years old\n",
      "None\n"
     ]
    }
   ],
   "source": [
    "# Write a function that uses a default value.\n",
    "# In - introduce('Lim', 20)\n",
    "# Out - 'My name is Lim. I am 20 years old.'\n",
    "# In - introduce('Ahmad')\n",
    "# Out - 'My name is Ahmad. My age is secret.'\n",
    "\n",
    "\n",
    "def introduce(Name,age):\n",
    "    print('My name is', Name ,'I am', age, 'years old')\n",
    "    \n",
    "print(introduce('Lim', 20))"
   ]
  },
  {
   "cell_type": "code",
   "execution_count": 32,
   "id": "fa8ff5df",
   "metadata": {},
   "outputs": [
    {
     "name": "stdout",
     "output_type": "stream",
     "text": [
      "False\n",
      "True\n",
      "Invalid\n"
     ]
    }
   ],
   "source": [
    "# Write a function isEquilateral(x, y, z) that accepts the 3 sides of a triangle as arguments. \n",
    "# The program should return True if it is an equilateral triangle.\n",
    "\n",
    "# In - isEquilateral(2, 4, 3)\n",
    "# False - False\n",
    "# In - isEquilateral(3, 3, 3)\n",
    "# Out - True\n",
    "# In - isEquilateral(-3, -3, -3)\n",
    "# Out - False\n",
    "\n",
    "def isEquilateral(x, y, z):\n",
    "    if (x > 0) & (y > 0) & (z > 0):\n",
    "        if (x == y) & (y == z) & (z == x):\n",
    "            return(True)\n",
    "        else:\n",
    "            return(False)\n",
    "    else:\n",
    "        return('Invalid')\n",
    "    \n",
    "print(isEquilateral(2, 4, 3))\n",
    "print(isEquilateral(3, 3, 3))\n",
    "print(isEquilateral(-3, -3, -3))"
   ]
  },
  {
   "cell_type": "code",
   "execution_count": 42,
   "id": "88223b0e",
   "metadata": {},
   "outputs": [
    {
     "name": "stdout",
     "output_type": "stream",
     "text": [
      "('The discriminant is', -8)\n",
      "('The discriminant is', 1)\n",
      "('The discriminant is', 0)\n"
     ]
    }
   ],
   "source": [
    "# For a quadratic equation in the form of ax2+bx+c, the discriminant, D is b2-4ac. Write a function to compute the discriminant, D.\n",
    "# In - quadratic(1, 2, 3)\n",
    "# Out - 'The discriminant is -8.'\n",
    "# In - quadratic(1, 3, 2)\n",
    "# Out - 'The discriminant is 1.'\n",
    "# In - quadratic(1, 4, 4)\n",
    "# Out - 'The discriminant is 0.'\n",
    "\n",
    "def quadratic(a, b, c):\n",
    "    d = 0\n",
    "    d = (b*b) - (4*a*c)\n",
    "    return 'The discriminant is',d\n",
    "\n",
    "print(quadratic(1, 2, 3))\n",
    "print(quadratic(1, 3, 2))\n",
    "print(quadratic(1, 4, 4))"
   ]
  },
  {
   "cell_type": "code",
   "execution_count": 48,
   "id": "ccaa21ef",
   "metadata": {},
   "outputs": [
    {
     "name": "stdout",
     "output_type": "stream",
     "text": [
      "5\n",
      "List is empty\n",
      "10\n"
     ]
    }
   ],
   "source": [
    "# Define a function calls addFirstAndLast(x) that takes in a list of numbers and returns the sum of the first and last numbers.\n",
    "# In - addFirstAndLast([])\n",
    "# Out - 0\n",
    "# In - addFirstAndLast([2, 7, 3])\n",
    "# Out - 5\n",
    "# In - addFirstAndLast([10])\n",
    "# Out - 10\n",
    "\n",
    "def addFirstAndLast(lst):\n",
    "  if len(lst) == 1:\n",
    "    return lst[0]\n",
    "  elif lst:\n",
    "    return lst[0] + lst[-1]\n",
    "  else:\n",
    "    return 'List is empty'\n",
    "\n",
    "print(addFirstAndLast([2,7,3]))\n",
    "print(addFirstAndLast([]))\n",
    "print(addFirstAndLast([10]))"
   ]
  },
  {
   "cell_type": "code",
   "execution_count": 49,
   "id": "d03e68ce",
   "metadata": {},
   "outputs": [
    {
     "name": "stdout",
     "output_type": "stream",
     "text": [
      "True\n",
      "False\n"
     ]
    }
   ],
   "source": [
    "# Complete the 'lambda' expression so that it returns True if the argument is an even number, and False otherwise.\n",
    "\n",
    "fun1 = (lambda num : True if num%2 == 0 else False)\n",
    "\n",
    "print(fun1(6))\n",
    "print(fun1(3))"
   ]
  },
  {
   "cell_type": "code",
   "execution_count": 50,
   "id": "527b0ab0",
   "metadata": {},
   "outputs": [
    {
     "data": {
      "text/plain": [
       "\"'A function that computes and returns the final score.\""
      ]
     },
     "execution_count": 50,
     "metadata": {},
     "output_type": "execute_result"
    }
   ],
   "source": [
    "# getScore.__doc__\n",
    "# 'A function that computes and returns the final score.'\n",
    "\n",
    "def getScore():\n",
    "  ''''A function that computes and returns the final score.'''\n",
    "  pass\n",
    "getScore.__doc__"
   ]
  },
  {
   "cell_type": "code",
   "execution_count": 52,
   "id": "73419ae9",
   "metadata": {},
   "outputs": [
    {
     "name": "stdout",
     "output_type": "stream",
     "text": [
      "16\n",
      "25\n"
     ]
    }
   ],
   "source": [
    "# In Python, it is possible to pass a function as a argument to another function. \n",
    "# Write a function useFunction(func, num) that takes in a function and a number as arguments. \n",
    "# The useFunction should produce the output shown in the examples given below.\n",
    "\n",
    "# def addOne(x):\n",
    "#   return x + 1\n",
    "# useFunction(addOne, 4)\n",
    "# 25\n",
    "# useFunction(addOne, 9)\n",
    "# 100\n",
    "# useFunction(addOne, 0)\n",
    "# 1\n",
    "\n",
    "\n",
    "def addOne(x):\n",
    "  return x + 1\n",
    "\n",
    "def useFunction(addOne, n):\n",
    "  return (addOne(n)**2)\n",
    "\n",
    "print(useFunction(addOne, 3))\n",
    "print(useFunction(addOne, 4))"
   ]
  },
  {
   "cell_type": "code",
   "execution_count": 53,
   "id": "db6bb287",
   "metadata": {},
   "outputs": [
    {
     "name": "stdout",
     "output_type": "stream",
     "text": [
      "This is f1 function\n"
     ]
    }
   ],
   "source": [
    "# def f1():\n",
    "#   print('This is f1 function')\n",
    "#   f1()\n",
    "# f1()\n",
    "\n",
    "def f1():\n",
    "    print('This is f1 function')\n",
    "    \n",
    "f1()"
   ]
  },
  {
   "cell_type": "code",
   "execution_count": null,
   "id": "dcc205f6",
   "metadata": {},
   "outputs": [],
   "source": []
  },
  {
   "cell_type": "code",
   "execution_count": null,
   "id": "aa767f6c",
   "metadata": {},
   "outputs": [],
   "source": []
  }
 ],
 "metadata": {
  "kernelspec": {
   "display_name": "Python 3",
   "language": "python",
   "name": "python3"
  },
  "language_info": {
   "codemirror_mode": {
    "name": "ipython",
    "version": 3
   },
   "file_extension": ".py",
   "mimetype": "text/x-python",
   "name": "python",
   "nbconvert_exporter": "python",
   "pygments_lexer": "ipython3",
   "version": "3.8.8"
  }
 },
 "nbformat": 4,
 "nbformat_minor": 5
}
